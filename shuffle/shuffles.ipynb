{
 "cells": [
  {
   "cell_type": "code",
   "execution_count": 10,
   "metadata": {
    "collapsed": false
   },
   "outputs": [],
   "source": [
    "\"\"\" \n",
    "Jessie Covington\n",
    "\n",
    "Testing of shuffles(list: deck)\n",
    "\n",
    "\"\"\"\n",
    "\n",
    "import numpy as np\n",
    "import matplotlib.pyplot as plt\n",
    "import plotly.plotly as py\n",
    "from sys import argv\n",
    "%matplotlib inline\n",
    "\n",
    "from shuffles import shuffle\n",
    "\n",
    "## not the most sophisticated, but will tell us if we have a grouping of three consecutive cards in our decks\n",
    "## unfortunately will also return higher numbers when there is a grouping of more than 3, so not quite correct\n",
    "## ex: [1, 2, 3, 4, 5] --> 3 consecutive groups of 3 cards - but since it is ordered\n",
    "def three_consecutive(deck):\n",
    "    count = 0\n",
    "    for i in range(len(deck)-2):\n",
    "        diff = deck[i+1] - deck[i]\n",
    "        if (abs(deck[i+2] - deck[i+1]) == diff) and (abs(deck[i+1] - deck[i]) == diff):\n",
    "            count += 1\n",
    "        else:\n",
    "            count = count\n",
    "    return count\n",
    "\n",
    "def repeated(deck):\n",
    "    count = 0\n",
    "    for i in range(len(deck)-1):\n",
    "        if deck[i] == deck[i+1]:\n",
    "            count+=1\n",
    "        else:\n",
    "            count = count\n",
    "    return count\n",
    "\n",
    "## f = open('shuffles_notes.txt', 'r') \n",
    "## contents = f.read()\n",
    "## print(contents)\n",
    "\n",
    "\n",
    "## some initial things that will be used throughout:\n",
    "## this won't be used, but\n",
    "D0 = np.array(range(0,0)) ## I just want to make sure we won't get an error with an empty list as input, you never know\n",
    "S0 = shuffle(D0) ## works no problem\n",
    "## print(S0) --> [] - as it should\n",
    "\n",
    "## now the decks we'll actually be considering:\n",
    "D13 = list(range(0, 13))\n",
    "D26 = list(range(0, 26))\n",
    "D52 = list(range(0, 52))\n",
    "D104 = list(range(0, 104))\n",
    "\n",
    "deck_list = np.array([D13, D26, D52, D104]) ## keep all our original decks in one place together\n",
    "n = len(deck_list)  ## this will be used throughout - number of original and shuffled decks\n",
    "\n",
    "num_shuffles = 10 ## how many shuffles do we want to try?\n",
    "\n",
    "### so we can keep track of what the deck looks like after each individual shuffle:\n",
    "deck1_shuffles = np.zeros((num_shuffles+1, len(D13)))\n",
    "deck2_shuffles = np.zeros((num_shuffles+1, len(D26)))\n",
    "deck3_shuffles = np.zeros((num_shuffles+1, len(D52)))\n",
    "deck4_shuffles = np.zeros((num_shuffles+1, len(D104)))\n",
    "\n",
    "deck1_shuffles[0] = D13\n",
    "deck2_shuffles[0] = D26\n",
    "deck3_shuffles[0] = D52\n",
    "deck4_shuffles[0] = D104"
   ]
  },
  {
   "cell_type": "code",
   "execution_count": 11,
   "metadata": {
    "collapsed": false
   },
   "outputs": [
    {
     "name": "stdout",
     "output_type": "stream",
     "text": [
      "Let's consider where the original top and bottom cards of the unshuffled deck end up after 10 shuffles.\n",
      "\n",
      "13 cards: \n",
      "[2.0, 7.0, 4.0, 12.0, 0.0, 6.0, 8.0, 11.0, 9.0, 1.0, 5.0, 3.0, 10.0]\n",
      "\n",
      "13 cards, initial index 0.0 (top card) --> index 4.0\n",
      "Top card moved 4.0 positions\n",
      "13 cards, initial index 12.0 (bottom card) --> index 3.0\n",
      "Bottom card moved 9.0 positions\n",
      "\n",
      "26 cards: \n",
      "[16.0, 6.0, 19.0, 0.0, 12.0, 13.0, 1.0, 7.0, 14.0, 5.0, 3.0, 9.0, 25.0, 8.0, 22.0, 23.0, 18.0, 21.0, 4.0, 2.0, 10.0, 15.0, 20.0, 24.0, 17.0, 11.0]\n",
      "\n",
      "26 cards, initial index 0.0 (top card) --> index 3.0\n",
      "Top card moved 3.0 positions\n",
      "26 cards, initial index 25.0 (bottom card) --> index 12.0\n",
      "Bottom card moved 13.0 positions\n",
      "\n",
      "52 cards: \n",
      "[28.0, 25.0, 0.0, 37.0, 24.0, 45.0, 19.0, 22.0, 51.0, 48.0, 13.0, 3.0, 11.0, 38.0, 43.0, 49.0, 4.0, 5.0, 46.0, 23.0, 39.0, 34.0, 12.0, 9.0, 14.0, 2.0, 30.0, 33.0, 17.0, 36.0, 7.0, 50.0, 41.0, 21.0, 47.0, 42.0, 8.0, 35.0, 16.0, 26.0, 18.0, 32.0, 40.0, 44.0, 15.0, 6.0, 1.0, 27.0, 31.0, 20.0, 10.0, 29.0]\n",
      "\n",
      "52 cards, initial index 0.0 (top card) --> index 2.0\n",
      "Top card moved 2.0 positions\n",
      "52 cards, initial index 51.0 (bottom card) --> index 8.0\n",
      "Bottom card moved 43.0 positions\n",
      "\n",
      "104 cards: \n",
      "[36.0, 84.0, 73.0, 63.0, 93.0, 53.0, 74.0, 6.0, 9.0, 18.0, 0.0, 54.0, 44.0, 83.0, 102.0, 91.0, 61.0, 42.0, 43.0, 13.0, 48.0, 97.0, 58.0, 8.0, 81.0, 21.0, 75.0, 46.0, 70.0, 22.0, 29.0, 37.0, 90.0, 88.0, 39.0, 30.0, 71.0, 7.0, 103.0, 28.0, 64.0, 56.0, 87.0, 92.0, 2.0, 99.0, 40.0, 3.0, 98.0, 78.0, 59.0, 4.0, 33.0, 26.0, 50.0, 38.0, 17.0, 66.0, 76.0, 80.0, 10.0, 72.0, 5.0, 69.0, 62.0, 19.0, 51.0, 101.0, 47.0, 15.0, 86.0, 31.0, 25.0, 45.0, 57.0, 14.0, 32.0, 23.0, 85.0, 49.0, 79.0, 24.0, 27.0, 1.0, 60.0, 34.0, 41.0, 89.0, 100.0, 52.0, 68.0, 95.0, 11.0, 20.0, 12.0, 67.0, 16.0, 96.0, 35.0, 55.0, 94.0, 65.0, 77.0, 82.0]\n",
      "\n",
      "104 cards, initial index 0.0 (top card) --> index 10.0\n",
      "Top card moved 10.0 positions\n",
      "104 cards, initial index 103.0 (bottom card) --> index 38.0\n",
      "Bottom card moved 65.0 positions\n",
      "\n"
     ]
    }
   ],
   "source": [
    "print(\"Let's consider where the original top and bottom cards of the unshuffled deck end up after %s shuffles.\" %(num_shuffles))\n",
    "print()\n",
    "\n",
    "top_card_num_arr = np.zeros(n) ## keep track of our first to see where it ends up - in this case they're all 0\n",
    "## but might have a case where it's not later, so.\n",
    "bottom_card_num_arr = np.zeros(n) ## keep track of last element so we can see where it ends up\n",
    "\n",
    "init_top_card_index = np.zeros(n) ## so we can compare later - all will remain zero since first index\n",
    "init_bottom_card_index = np.zeros(n)\n",
    "\n",
    "new_top_card_index = np.zeros(n) ## store the index of where the original top card ends up\n",
    "new_bottom_card_index = np.zeros(n) ## '' '' bottom '' ''\n",
    "\n",
    "## so we can keep our original decks if we need to use them later and bc otherwise Si won't be recognized\n",
    "S1 = D13\n",
    "S2 = D26\n",
    "S3 = D52\n",
    "S4 = D104\n",
    "\n",
    "## shuffle each deck however many times we wanted to shuffle (declared above)\n",
    "for i in range(1, num_shuffles):\n",
    "    S1 = shuffle(S1).tolist()\n",
    "    S2 = shuffle(S2).tolist()\n",
    "    S3 = shuffle(S3).tolist()\n",
    "    S4 = shuffle(S4).tolist()\n",
    "\n",
    "    deck1_shuffles[i] = S1\n",
    "    deck2_shuffles[i] = S2\n",
    "    deck3_shuffles[i] = S3\n",
    "    deck4_shuffles[i] = S4\n",
    "\n",
    "## putting them in a list to make easier and shorter to access\n",
    "shuffled_deck_list = [S1, S2, S3, S4]\n",
    "\n",
    "for i in range(n):\n",
    "    ## store the first and last elements(top and bottom cards) of each deck\n",
    "    top_card_num_arr[i] = deck_list[0][0]\n",
    "    bottom_card_num_arr[i] = deck_list[i][-1]\n",
    "\n",
    "    ## find indices of bottom card of deck (doing this way in case we change our deck sizes later)\n",
    "    init_bottom_card_index[i] = len(deck_list[i]) - 1\n",
    "\n",
    "    ## store the index of where the first and last cards moved\n",
    "    new_top_card_index[i] = shuffled_deck_list[i].index(top_card_num_arr[i])\n",
    "    new_bottom_card_index[i] = shuffled_deck_list[i].index(bottom_card_num_arr[i])\n",
    "\n",
    "    ## shuffled_deck_list[i] = shuffled_deck_list[i].tolist()\n",
    "    ## print(\"The shuffled deck %s is: \\n %s \\n\" %(i+1, shuffled_deck_list[i]) )\n",
    "\n",
    "        \n",
    "## print(init_top_card_index, init_bottom_card_index)\n",
    "## print(new_top_card_index, new_bottom_card_index)\n",
    "for i in range(len(deck_list)):\n",
    "    print(\"%s cards: \\n%s\" %(len(deck_list[i]), shuffled_deck_list[i]))\n",
    "    print()\n",
    "    print(\"%s cards, initial index %s (top card) --> index %s\" %(len(deck_list[i]), init_top_card_index[i], new_top_card_index[i]))\n",
    "    print(\"Top card moved %s positions\" %(new_top_card_index[i] - init_top_card_index[i]))\n",
    "    print(\"%s cards, initial index %s (bottom card) --> index %s\" %(len(deck_list[i]), init_bottom_card_index[i], new_bottom_card_index[i]))\n",
    "    print(\"Bottom card moved %s positions\" %(init_bottom_card_index[i] - new_bottom_card_index[i]))\n",
    "    print()\n",
    "\n",
    "       \n",
    "## if enough time, try to do a few more, graph, and compare to see how many spaces it moves more generally\n",
    "## ideally, would also be able to make a histogram or something of how many times each element appears in a certain position"
   ]
  },
  {
   "cell_type": "code",
   "execution_count": 12,
   "metadata": {
    "collapsed": false
   },
   "outputs": [
    {
     "name": "stdout",
     "output_type": "stream",
     "text": [
      "Let's look at whether there are still groups of consecutive cards.\n",
      "We'll consider a consecutive group to be 3 ordered cards in a row.\n",
      "\n"
     ]
    }
   ],
   "source": [
    "print(\"Let's look at whether there are still groups of consecutive cards.\")\n",
    "print(\"We'll consider a consecutive group to be 3 ordered cards in a row.\")\n",
    "print()   "
   ]
  },
  {
   "cell_type": "code",
   "execution_count": 25,
   "metadata": {
    "collapsed": false
   },
   "outputs": [
    {
     "name": "stdout",
     "output_type": "stream",
     "text": [
      "Let's compare consecutive shuffles of 26 cards:\n",
      "\n",
      "Shuffle 0: [  0.   1.   2.   3.   4.   5.   6.   7.   8.   9.  10.  11.  12.  13.  14.\n",
      "  15.  16.  17.  18.  19.  20.  21.  22.  23.  24.  25.]\n",
      "\n",
      "Shuffle 1: [  0.   1.   2.   3.  20.   4.   5.  21.   6.   7.   8.   9.  10.  22.  11.\n",
      "  23.  12.  13.  14.  15.  24.  16.  17.  18.  19.  25.]\n",
      "\n",
      "Shuffle 2: [  9.  10.   0.  22.   1.   2.   3.  11.  20.  23.  12.   4.  13.  14.  15.\n",
      "  24.  16.   5.  17.  21.  18.   6.  19.   7.  25.   8.]\n",
      "\n",
      "Shuffle 3: [  9.  24.  10.  16.   0.  22.   5.  17.  21.   1.   2.  18.   3.  11.  20.\n",
      "   6.  23.  19.  12.   4.  13.  14.  15.   7.  25.   8.]\n",
      "\n",
      "Shuffle 4: [  9.  11.  24.  10.  16.  20.   6.   0.  22.  23.   5.  19.  12.   4.  17.\n",
      "  13.  21.   1.   2.  14.  18.  15.   7.  25.   3.   8.]\n",
      "\n",
      "Shuffle 5: [  5.   9.  11.  19.  12.   4.  17.  24.  13.  21.  10.  16.  20.   6.   1.\n",
      "   2.   0.  14.  22.  18.  23.  15.   7.  25.   3.   8.]\n",
      "\n",
      "Shuffle 6: [ 16.  20.   6.   1.   2.   0.  14.   5.   9.  22.  11.  19.  12.  18.   4.\n",
      "  17.  23.  15.   7.  25.  24.  13.   3.  21.  10.   8.]\n",
      "\n",
      "Shuffle 7: [ 16.  23.  15.  20.   6.   1.   7.  25.   2.  24.   0.  13.  14.   5.   3.\n",
      "   9.  22.  21.  10.  11.  19.  12.   8.  18.   4.  17.]\n",
      "\n",
      "Shuffle 8: [ 16.   0.  13.  14.   5.   3.   9.  22.  23.  21.  10.  15.  20.  11.   6.\n",
      "  19.  12.   1.   7.  25.   8.  18.   4.   2.  24.  17.]\n",
      "\n",
      "Shuffle 9: [ 16.   6.  19.   0.  12.  13.   1.   7.  14.   5.   3.   9.  25.   8.  22.\n",
      "  23.  18.  21.   4.   2.  10.  15.  20.  24.  17.  11.]\n",
      "\n",
      "List of number of ordered sequences at each iteration:  [ 24.   9.   2.   1.   0.   0.   0.   0.   1.   1.]\n"
     ]
    },
    {
     "data": {
      "image/png": "[encoded data removed]",
      "text/plain": [
       "<matplotlib.figure.Figure at 0x11eda39e8>"
      ]
     },
     "metadata": {},
     "output_type": "display_data"
    }
   ],
   "source": [
    "print(\"Let's compare consecutive shuffles of 26 cards:\")\n",
    "print()\n",
    "grps = np.zeros(num_shuffles)\n",
    "for row in range(num_shuffles):\n",
    "    print(\"Shuffle %s: %s\\n\" %(row, deck2_shuffles[row]))\n",
    "    grps[row] = three_consecutive(deck2_shuffles[row])\n",
    "print(\"List of number of ordered sequences at each iteration: \", grps)\n",
    "plt.plot(grps)\n",
    "plt.show()"
   ]
  },
  {
   "cell_type": "code",
   "execution_count": 14,
   "metadata": {
    "collapsed": false
   },
   "outputs": [
    {
     "name": "stdout",
     "output_type": "stream",
     "text": [
      "Let's compare consecutive shuffles of 52 cards:\n",
      "\n",
      "Shuffle 0: [  0.   1.   2.   3.   4.   5.   6.   7.   8.   9.  10.  11.  12.  13.  14.\n",
      "  15.  16.  17.  18.  19.  20.  21.  22.  23.  24.  25.  26.  27.  28.  29.\n",
      "  30.  31.  32.  33.  34.  35.  36.  37.  38.  39.  40.  41.  42.  43.  44.\n",
      "  45.  46.  47.  48.  49.  50.  51.]\n",
      "\n",
      "Shuffle 1: [  0.   1.   2.  27.  28.   3.   4.   5.  29.   6.   7.  30.  31.  32.   8.\n",
      "   9.  10.  33.  34.  35.  11.  12.  13.  36.  37.  38.  39.  40.  41.  14.\n",
      "  15.  42.  43.  16.  44.  17.  18.  45.  19.  20.  21.  46.  47.  48.  22.\n",
      "  49.  50.  23.  24.  25.  26.  51.]\n",
      "\n",
      "Shuffle 2: [ 36.   0.  37.   1.  38.  39.  40.  41.   2.  27.  28.  14.  15.   3.   4.\n",
      "  42.  43.   5.  29.   6.   7.  16.  30.  44.  17.  31.  18.  32.   8.  45.\n",
      "   9.  10.  19.  20.  33.  21.  46.  34.  47.  35.  48.  11.  22.  49.  50.\n",
      "  23.  24.  25.  26.  51.  12.  13.]\n",
      "\n",
      "Shuffle 3: [ 36.   0.  31.  18.  37.  32.   8.   1.  45.   9.  38.  39.  10.  40.  41.\n",
      "   2.  27.  28.  19.  20.  14.  33.  15.   3.  21.  46.  34.  47.  35.  48.\n",
      "  11.   4.  22.  49.  50.  42.  43.   5.  29.   6.  23.   7.  16.  24.  25.\n",
      "  26.  51.  12.  30.  44.  13.  17.]\n",
      "\n",
      "Shuffle 4: [ 47.  36.   0.  35.  31.  18.  37.  48.  11.   4.  32.  22.   8.   1.  45.\n",
      "  49.  50.   9.  42.  38.  39.  43.   5.  10.  29.  40.   6.  23.  41.   7.\n",
      "  16.  24.   2.  27.  28.  25.  19.  26.  20.  51.  12.  14.  30.  33.  44.\n",
      "  15.  13.  17.   3.  21.  46.  34.]\n",
      "\n",
      "Shuffle 5: [ 38.  39.  47.  43.   5.  10.  36.  29.  40.   6.  23.  41.   0.   7.  35.\n",
      "  16.  31.  24.   2.  18.  37.  48.  11.   4.  32.  27.  28.  25.  19.  26.\n",
      "  20.  22.  51.  12.  14.  30.  33.   8.  44.  15.  13.  17.   1.  45.   3.\n",
      "  49.  50.  21.  46.  34.   9.  42.]\n",
      "\n",
      "Shuffle 6: [ 37.  48.  11.  38.   4.  39.  47.  32.  27.  28.  25.  19.  43.   5.  26.\n",
      "  20.  10.  22.  36.  29.  51.  12.  14.  30.  33.   8.  44.  15.  13.  17.\n",
      "  40.   6.   1.  45.   3.  23.  41.   0.  49.   7.  50.  21.  35.  16.  31.\n",
      "  24.  46.  34.   9.   2.  42.  18.]\n",
      "\n",
      "Shuffle 7: [ 37.  48.  13.  11.  38.   4.  39.  17.  47.  32.  40.   6.   1.  27.  28.\n",
      "  25.  45.  19.   3.  43.   5.  23.  41.  26.  20.  10.   0.  22.  49.  36.\n",
      "   7.  50.  21.  35.  16.  31.  29.  24.  51.  46.  34.  12.   9.  14.   2.\n",
      "  30.  33.  42.   8.  18.  44.  15.]\n",
      "\n",
      "Shuffle 8: [  0.  37.  22.  48.  13.  11.  38.  49.   4.  39.  17.  36.   7.  50.  21.\n",
      "  47.  35.  16.  32.  40.   6.   1.  27.  31.  29.  28.  25.  24.  45.  19.\n",
      "  51.   3.  43.   5.  46.  23.  34.  12.   9.  14.   2.  30.  33.  41.  42.\n",
      "   8.  26.  18.  44.  15.  20.  10.]\n",
      "\n",
      "Shuffle 9: [ 28.  25.   0.  37.  24.  45.  19.  22.  51.  48.  13.   3.  11.  38.  43.\n",
      "  49.   4.   5.  46.  23.  39.  34.  12.   9.  14.   2.  30.  33.  17.  36.\n",
      "   7.  50.  41.  21.  47.  42.   8.  35.  16.  26.  18.  32.  40.  44.  15.\n",
      "   6.   1.  27.  31.  20.  10.  29.]\n",
      "\n",
      "List of number of ordered sequences at each iteration:  [ 50.  14.   5.   1.   0.   0.   0.   1.   0.   0.]\n",
      "And we can see that at around 7 shuffles, we stop seeing two number groupings as much as well.\n"
     ]
    },
    {
     "data": {
      "image/png": "[encoded data removed]",
      "text/plain": [
       "<matplotlib.figure.Figure at 0x11ec2bcf8>"
      ]
     },
     "metadata": {},
     "output_type": "display_data"
    }
   ],
   "source": [
    "print(\"Let's compare consecutive shuffles of 52 cards:\")\n",
    "print()\n",
    "grps = np.zeros(num_shuffles)\n",
    "for row in range(num_shuffles):\n",
    "    print(\"Shuffle %s: %s\\n\" %(row, deck3_shuffles[row]))\n",
    "    grps[row] = three_consecutive(deck3_shuffles[row])\n",
    "print(\"List of number of ordered sequences at each iteration: \", grps)\n",
    "print(\"And we can see that at around 7 shuffles, we stop seeing two number groupings as much as well.\")\n",
    "plt.plot(grps)\n",
    "plt.show()"
   ]
  },
  {
   "cell_type": "code",
   "execution_count": 26,
   "metadata": {
    "collapsed": false
   },
   "outputs": [
    {
     "name": "stdout",
     "output_type": "stream",
     "text": [
      "Let's compare consecutive shuffles of 104 cards:\n",
      "\n",
      "List of number of ordered sequences at each iteration:  [ 102.   23.    5.    2.    2.    0.    0.    0.    2.    0.]\n"
     ]
    },
    {
     "data": {
      "image/png": "[encoded data removed]",
      "text/plain": [
       "<matplotlib.figure.Figure at 0x11f14df98>"
      ]
     },
     "metadata": {},
     "output_type": "display_data"
    }
   ],
   "source": [
    "print(\"Let's compare consecutive shuffles of 104 cards:\")\n",
    "print()\n",
    "grps = np.zeros(num_shuffles)\n",
    "for row in range(num_shuffles):\n",
    "    ## print(\"Shuffle %s: %s\\n\" %(row, deck4_shuffles[row]))\n",
    "    grps[row] = three_consecutive(deck4_shuffles[row])\n",
    "print(\"List of number of ordered sequences at each iteration: \", grps)\n",
    "plt.plot(grps)\n",
    "plt.show()"
   ]
  },
  {
   "cell_type": "code",
   "execution_count": 16,
   "metadata": {
    "collapsed": false
   },
   "outputs": [
    {
     "name": "stdout",
     "output_type": "stream",
     "text": [
      "So we can see from the graphs that the number of sequences of consecutive cards decreases quickly and remains near 0\n",
      "In all cases, it looks like after about 4 shuffles, we have reached zero consecutive cards.\n",
      "However, it will still take more than these shuffles to fully randomize a deck of more than 52 cards\n",
      "This does not take into consideration this distribution of the cards - such as whether those from the bottom half of the deck are still largely dispersed through the bottom half of the deck, just less ordered now - would need to check that as well\n"
     ]
    }
   ],
   "source": [
    "print(\"So we can see from the graphs that the number of sequences of consecutive cards decreases quickly and remains near 0\")\n",
    "print(\"In all cases, it looks like after about 4 shuffles, we have reached zero consecutive cards.\")\n",
    "print(\"However, it will still take more than these shuffles to fully randomize a deck of more than 52 cards\")\n",
    "print(\"This does not take into consideration this distribution of the cards - such as whether those from the bottom half of the deck are still largely dispersed through the bottom half of the deck, just less ordered now - would need to check that as well\")"
   ]
  },
  {
   "cell_type": "code",
   "execution_count": 17,
   "metadata": {
    "collapsed": false
   },
   "outputs": [
    {
     "name": "stdout",
     "output_type": "stream",
     "text": [
      "It should take about 7 shuffles for a deck of 52 cards in order to fully randomize the deck.\n",
      "In general, it should take ~3/2*log_2(n) shuffles to fully randomize a deck of n cards.\n"
     ]
    }
   ],
   "source": [
    "print(\"It should take about 7 shuffles for a deck of 52 cards in order to fully randomize the deck.\")\n",
    "print(\"In general, it should take ~3/2*log_2(n) shuffles to fully randomize a deck of n cards.\")"
   ]
  },
  {
   "cell_type": "code",
   "execution_count": 24,
   "metadata": {
    "collapsed": false
   },
   "outputs": [
    {
     "name": "stdout",
     "output_type": "stream",
     "text": [
      "As for small changes to the shuffling model, suppose we fix a single card (one single card that is so bent it doesn't incorporate well when shuffling and just flops back on top.)\n",
      "This has now made a restriction on the possible orderings of the cards, as one position is permanently taken and we are now left with (n-1)! possible permutations, each of which should be equally likely given the rest of the conditions stay the same and the appropriate number of shuffles are done.\n"
     ]
    }
   ],
   "source": [
    "print(\"As for small changes to the shuffling model, suppose we fix a single card (one single card that is so bent it doesn't incorporate well when shuffling and just flops back on top.)\")\n",
    "print(\"This has now made a restriction on the possible orderings of the cards, as one position is permanently taken and we are now left with (n-1)! possible permutations, each of which should be equally likely given the rest of the conditions stay the same and the appropriate number of shuffles are done.\")\n",
    "print(\"If we repeat elements, we can see that the more duplicate elements there are in a deck, it still seems to randomize well (based purely on visual observation and comparison).\")"
   ]
  },
  {
   "cell_type": "code",
   "execution_count": 18,
   "metadata": {
    "collapsed": false
   },
   "outputs": [],
   "source": [
    "## set up decks with some number of repeated elements\n",
    "## deck with single repeated element:\n",
    "R52_1 = np.zeros(52)\n",
    "R52_2 = np.zeros(52)\n",
    "for i in range(len(R52_1)):\n",
    "    if i%51 == 1:\n",
    "        R52_1[i] = i+1\n",
    "    else:\n",
    "        R52_1[i] = i\n",
    "\n",
    "## deck with 2 of every card:\n",
    "for i in range(len(R52_2)):\n",
    "    if i%2 == 0:\n",
    "        R52_2[i] = i+1\n",
    "    else:\n",
    "        R52_2[i] = i\n",
    "\n",
    "## print(R52_1)\n",
    "## print(R52_2)"
   ]
  },
  {
   "cell_type": "code",
   "execution_count": 27,
   "metadata": {
    "collapsed": false
   },
   "outputs": [
    {
     "name": "stdout",
     "output_type": "stream",
     "text": [
      "The original shuffled deck of 52 cards after 7 shuffles: \n",
      " [ 49.  32.  15.  23.  44.  39.  47.   5.  42.  27.   6.  45.  24.  19.  30.\n",
      "  36.   3.   9.  48.  51.   1.  28.  18.   2.  33.  16.  40.  17.  41.  13.\n",
      "   4.  25.  29.   7.  31.  11.  34.  21.  26.  35.  50.   8.  22.  37.  43.\n",
      "  20.  14.  10.   0.  12.  38.  46.]\n",
      "List of number of ordered sequences at each iteration:  [ 50.  10.   3.   0.   0.   0.   0.]\n"
     ]
    },
    {
     "data": {
      "image/png": "[encoded data removed]",
      "text/plain": [
       "<matplotlib.figure.Figure at 0x11ef46160>"
      ]
     },
     "metadata": {},
     "output_type": "display_data"
    },
    {
     "name": "stdout",
     "output_type": "stream",
     "text": [
      "\n"
     ]
    }
   ],
   "source": [
    "shuff = 7\n",
    "Sdeck = D52\n",
    "shuff_R52_1 = R52_1\n",
    "shuff_R52_2 = R52_2\n",
    "rpts = np.zeros(shuff)\n",
    "grps_Sdeck = np.zeros(shuff)\n",
    "grps_R52_1 = np.zeros(shuff)\n",
    "grps_R52_2 = np.zeros(shuff)\n",
    "\n",
    "for i in range(shuff):\n",
    "    rpts[i] = repeated(shuff_R52_2)\n",
    "    grps_Sdeck[i] = three_consecutive(Sdeck)\n",
    "    grps_R52_1[i] = three_consecutive(shuff_R52_1)\n",
    "    grps_R52_2[i] = three_consecutive(shuff_R52_2)\n",
    "    ## print(repeated(shuff_R52_2))\n",
    "    Sdeck = shuffle(Sdeck)\n",
    "    shuff_R52_1 = shuffle(shuff_R52_1)\n",
    "    shuff_R52_2 = shuffle(shuff_R52_2)\n",
    "    \n",
    "\n",
    "print(\"The original shuffled deck of 52 cards after 7 shuffles: \\n\", np.array(Sdeck))\n",
    "print(\"List of number of ordered sequences at each iteration: \", grps_Sdeck)\n",
    "plt.plot(grps_Sdeck)\n",
    "plt.show()\n",
    "print()"
   ]
  },
  {
   "cell_type": "code",
   "execution_count": 28,
   "metadata": {
    "collapsed": false
   },
   "outputs": [
    {
     "name": "stdout",
     "output_type": "stream",
     "text": [
      "The deck with a single repeated card after 7 shuffles: \n",
      " [ 31.   7.  30.  25.  35.   0.  26.  50.   9.   4.  18.  21.  22.  51.   6.\n",
      "  46.  36.  47.  38.  49.  37.  39.  11.  41.   2.   2.  10.  44.  45.  40.\n",
      "  19.  16.  24.  34.  12.  42.  15.  32.  48.  28.   5.  27.  33.  43.  13.\n",
      "   8.  23.  17.  20.   3.  29.  14.]\n",
      "\n",
      "List of number of ordered sequences at each iteration:  [ 48.  11.   4.   1.   0.   0.   0.]\n"
     ]
    },
    {
     "data": {
      "image/png": "[encoded data removed]",
      "text/plain": [
       "<matplotlib.figure.Figure at 0x11eda3470>"
      ]
     },
     "metadata": {},
     "output_type": "display_data"
    }
   ],
   "source": [
    "print(\"The deck with a single repeated card after 7 shuffles: \\n\", shuff_R52_1)\n",
    "print()\n",
    "print(\"List of number of ordered sequences at each iteration: \", grps_R52_1)\n",
    "plt.plot(grps_R52_1)\n",
    "plt.show()"
   ]
  },
  {
   "cell_type": "code",
   "execution_count": 32,
   "metadata": {
    "collapsed": false
   },
   "outputs": [
    {
     "name": "stdout",
     "output_type": "stream",
     "text": [
      "The deck with 52 cards and 2 of every element after 7 shuffles: \n",
      " [ 47.  25.   3.  49.  31.   3.  39.  19.  47.  51.   7.  41.  27.  17.  45.\n",
      "  23.  37.   9.  43.  39.  15.   1.  19.  41.  21.  33.  31.  45.  35.   1.\n",
      "  11.  23.   7.   9.  25.  35.  43.  29.  11.  29.  13.  15.  27.  13.  49.\n",
      "  33.  21.   5.  17.  51.   5.  37.]\n",
      "\n",
      "Pairs of repeated elements (side by side):  [ 26.  16.   9.   4.   0.   0.   1.]\n"
     ]
    },
    {
     "data": {
      "image/png": "[encoded data removed]",
      "text/plain": [
       "<matplotlib.figure.Figure at 0x11edee470>"
      ]
     },
     "metadata": {},
     "output_type": "display_data"
    },
    {
     "name": "stdout",
     "output_type": "stream",
     "text": [
      "List of number of ordered sequences at each iteration:  [ 0.  1.  1.  3.  1.  1.  1.]\n"
     ]
    },
    {
     "data": {
      "image/png": "[encoded data removed]",
      "text/plain": [
       "<matplotlib.figure.Figure at 0x11ecf5c50>"
      ]
     },
     "metadata": {},
     "output_type": "display_data"
    },
    {
     "name": "stdout",
     "output_type": "stream",
     "text": [
      "Actually here, we don't see repeated elements immediately next to one another, that quickly gets taken care of.\n",
      "Instead, the number of ordered sequences actually increases, much unlike the other cases.\n"
     ]
    }
   ],
   "source": [
    "print(\"The deck with 52 cards and 2 of every element after 7 shuffles: \\n\", shuff_R52_2)\n",
    "print()\n",
    "print(\"Pairs of repeated elements (side by side): \", rpts)\n",
    "plt.plot(rpts)\n",
    "plt.show()\n",
    "\n",
    "print(\"List of number of ordered sequences at each iteration: \", grps_R52_2)\n",
    "plt.plot(grps_R52_2)\n",
    "plt.show()\n",
    "\n",
    "print(\"Actually here, we don't see repeated elements immediately next to one another, that quickly gets taken care of.\")\n",
    "print(\"Instead, the number of ordered sequences actually increases, much unlike the other cases.\")"
   ]
  },
  {
   "cell_type": "code",
   "execution_count": null,
   "metadata": {
    "collapsed": true
   },
   "outputs": [],
   "source": []
  }
 ],
 "metadata": {
  "kernelspec": {
   "display_name": "Python 3",
   "language": "python",
   "name": "python3"
  },
  "language_info": {
   "codemirror_mode": {
    "name": "ipython",
    "version": 3
   },
   "file_extension": ".py",
   "mimetype": "text/x-python",
   "name": "python",
   "nbconvert_exporter": "python",
   "pygments_lexer": "ipython3",
   "version": "3.5.4"
  }
 },
 "nbformat": 4,
 "nbformat_minor": 0
}
